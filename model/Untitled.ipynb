{
 "cells": [
  {
   "cell_type": "code",
   "execution_count": 75,
   "metadata": {},
   "outputs": [
    {
     "name": "stdout",
     "output_type": "stream",
     "text": [
      "\n",
      "\n",
      "        BEGIN TRANSACTION;\n",
      "\n",
      "        DELETE FROM primary_classifications\n",
      "        USING primary_classifications_staging\n",
      "        WHERE primary_classifications.event_id = primary_classifications_staging.event_id;\n",
      "\n",
      "        INSERT INTO primary_classifications\n",
      "        SELECT * FROM primary_classifications_staging;\n",
      "\n",
      "        END TRANSACTION;\n",
      "\n",
      "        \n"
     ]
    }
   ],
   "source": []
  },
  {
   "cell_type": "code",
   "execution_count": 178,
   "metadata": {
    "collapsed": true
   },
   "outputs": [],
   "source": [
    "def query_db():\n",
    "    \"\"\"\n",
    "    Accepts query string and connection\n",
    "    Uploads result of query into table\n",
    "    \"\"\"\n",
    "\n",
    "    connection = psycopg2.connect(host=HOSTNAME,\n",
    "                                  user=USERNAME,\n",
    "                                  password=PASSWORD,\n",
    "                                  dbname=DATABASE,\n",
    "                                  port=5439)\n",
    "    # run query and store results in a dataframe\n",
    "    LOGGER.info(\"Running query...\")\n",
    "\n",
    "    cur = connection.cursor()\n",
    "    \n",
    "    cur.execute(\"\"\"SELECT * FROM primary_classifications\"\"\")\n",
    "    column_list = [c[0] for c in cur.description]\n",
    "    df_query = pd.DataFrame(cur.fetchall(), columns=column_list)\n",
    "    \n",
    "    cur.close()\n",
    "    connection.close()\n",
    "    \n",
    "    return df_query\n"
   ]
  },
  {
   "cell_type": "code",
   "execution_count": 179,
   "metadata": {},
   "outputs": [],
   "source": [
    "df = query_db()"
   ]
  },
  {
   "cell_type": "code",
   "execution_count": 180,
   "metadata": {},
   "outputs": [
    {
     "data": {
      "text/plain": [
       "(217329, 4)"
      ]
     },
     "execution_count": 180,
     "metadata": {},
     "output_type": "execute_result"
    }
   ],
   "source": [
    "df.shape"
   ]
  },
  {
   "cell_type": "code",
   "execution_count": null,
   "metadata": {
    "collapsed": true
   },
   "outputs": [],
   "source": []
  },
  {
   "cell_type": "code",
   "execution_count": 106,
   "metadata": {},
   "outputs": [
    {
     "data": {
      "text/html": [
       "<div>\n",
       "<style>\n",
       "    .dataframe thead tr:only-child th {\n",
       "        text-align: right;\n",
       "    }\n",
       "\n",
       "    .dataframe thead th {\n",
       "        text-align: left;\n",
       "    }\n",
       "\n",
       "    .dataframe tbody tr th {\n",
       "        vertical-align: top;\n",
       "    }\n",
       "</style>\n",
       "<table border=\"1\" class=\"dataframe\">\n",
       "  <thead>\n",
       "    <tr style=\"text-align: right;\">\n",
       "      <th></th>\n",
       "      <th>event_id</th>\n",
       "      <th>primary_classification</th>\n",
       "      <th>primary_score</th>\n",
       "      <th>uploaded_time</th>\n",
       "    </tr>\n",
       "  </thead>\n",
       "  <tbody>\n",
       "    <tr>\n",
       "      <th>0</th>\n",
       "      <td>5647</td>\n",
       "      <td>birthday</td>\n",
       "      <td>0.103638</td>\n",
       "      <td>2017-07-10 12:11:25.053366</td>\n",
       "    </tr>\n",
       "    <tr>\n",
       "      <th>1</th>\n",
       "      <td>8461</td>\n",
       "      <td>birthday</td>\n",
       "      <td>0.538557</td>\n",
       "      <td>2017-07-10 12:11:25.056652</td>\n",
       "    </tr>\n",
       "    <tr>\n",
       "      <th>2</th>\n",
       "      <td>6955</td>\n",
       "      <td>birthday</td>\n",
       "      <td>0.607162</td>\n",
       "      <td>2017-07-10 12:11:25.050251</td>\n",
       "    </tr>\n",
       "    <tr>\n",
       "      <th>3</th>\n",
       "      <td>4137</td>\n",
       "      <td>birthday</td>\n",
       "      <td>0.363155</td>\n",
       "      <td>2017-07-10 12:11:25.063126</td>\n",
       "    </tr>\n",
       "    <tr>\n",
       "      <th>4</th>\n",
       "      <td>3350</td>\n",
       "      <td>birthday</td>\n",
       "      <td>0.167572</td>\n",
       "      <td>2017-07-10 12:11:25.059787</td>\n",
       "    </tr>\n",
       "  </tbody>\n",
       "</table>\n",
       "</div>"
      ],
      "text/plain": [
       "   event_id primary_classification  primary_score              uploaded_time\n",
       "0      5647               birthday       0.103638 2017-07-10 12:11:25.053366\n",
       "1      8461               birthday       0.538557 2017-07-10 12:11:25.056652\n",
       "2      6955               birthday       0.607162 2017-07-10 12:11:25.050251\n",
       "3      4137               birthday       0.363155 2017-07-10 12:11:25.063126\n",
       "4      3350               birthday       0.167572 2017-07-10 12:11:25.059787"
      ]
     },
     "execution_count": 106,
     "metadata": {},
     "output_type": "execute_result"
    }
   ],
   "source": [
    "df"
   ]
  },
  {
   "cell_type": "code",
   "execution_count": 87,
   "metadata": {
    "collapsed": true
   },
   "outputs": [],
   "source": [
    "import os\n",
    "import logging\n",
    "import psycopg2\n",
    "import pandas as pd\n",
    "\n",
    "\n",
    "LOGNAME = 'log/event_classifier_log'\n",
    "logging.basicConfig(filename=LOGNAME,\n",
    "                    filemode='a',\n",
    "                    format='%(asctime)s -  %(name)s - %(levelname)s - %(message)s',\n",
    "                    datefmt='%H:%M:%S',\n",
    "                    level=logging.DEBUG)\n",
    "LOGGER = logging.getLogger(__name__)\n",
    "\n",
    "\n",
    "# connect to old cluster\n",
    "HOSTNAME = '10.69.10.122'\n",
    "USERNAME = 'iman'\n",
    "PASSWORD = os.environ['DATABASEPASSWORD']\n",
    "DATABASE = 'dev'\n",
    "\n",
    "\n",
    "def upload_records(query, tup):\n",
    "    \"\"\"\n",
    "    Accepts query string and connection\n",
    "    Uploads result of query into table\n",
    "    \"\"\"\n",
    "\n",
    "    connection = psycopg2.connect(host=HOSTNAME,\n",
    "                                  user=USERNAME,\n",
    "                                  password=PASSWORD,\n",
    "                                  dbname=DATABASE,\n",
    "                                  port=5439)\n",
    "    # run query and store results in a dataframe\n",
    "    LOGGER.info(\"Running query...\")\n",
    "\n",
    "    cur = connection.cursor()\n",
    "    args_str = ','.join(cur.mogrify(\"(%s,%s,%s,%s)\", x).decode() for x in tup)\n",
    "    print(args_str)\n",
    "    cur.execute(\"\"\"\n",
    "        INSERT INTO primary_classifications_staging (event_id, primary_classification, primary_score, uploaded_time) \n",
    "                    VALUES \"\"\" + args_str) \n",
    "\n",
    "    connection.commit()\n",
    "    \n",
    "    cur.close()\n",
    "    connection.close()\n"
   ]
  },
  {
   "cell_type": "code",
   "execution_count": 88,
   "metadata": {
    "collapsed": true
   },
   "outputs": [],
   "source": [
    "from datetime import datetime"
   ]
  },
  {
   "cell_type": "code",
   "execution_count": 169,
   "metadata": {
    "collapsed": true
   },
   "outputs": [],
   "source": [
    "import helpers.query_events"
   ]
  },
  {
   "cell_type": "code",
   "execution_count": 89,
   "metadata": {
    "collapsed": true
   },
   "outputs": [],
   "source": [
    "import numpy as np"
   ]
  },
  {
   "cell_type": "code",
   "execution_count": 157,
   "metadata": {},
   "outputs": [],
   "source": [
    "df = pd.DataFrame(columns=['event_id','primary_classification', 'primary_score', 'upload_time'])\n",
    "for i in range(1):\n",
    "    df.loc[i] = [5648, 'birthday',np.random.random(1)[0], datetime.today()]"
   ]
  },
  {
   "cell_type": "code",
   "execution_count": 162,
   "metadata": {},
   "outputs": [
    {
     "data": {
      "text/plain": [
       "[[5648,\n",
       "  'birthday',\n",
       "  0.5945650812954429,\n",
       "  Timestamp('2017-07-10 12:45:12.390722')]]"
      ]
     },
     "execution_count": 162,
     "metadata": {},
     "output_type": "execute_result"
    }
   ],
   "source": [
    "upsert_list = df.values.tolist()\n",
    "upsert_list"
   ]
  },
  {
   "cell_type": "code",
   "execution_count": 167,
   "metadata": {},
   "outputs": [],
   "source": [
    "helpers.query_events.create_staging_and_insert(upsert_list)"
   ]
  },
  {
   "cell_type": "code",
   "execution_count": 170,
   "metadata": {},
   "outputs": [
    {
     "ename": "TypeError",
     "evalue": "merge_records() takes 0 positional arguments but 1 was given",
     "output_type": "error",
     "traceback": [
      "\u001b[0;31m---------------------------------------------------------------------------\u001b[0m",
      "\u001b[0;31mTypeError\u001b[0m                                 Traceback (most recent call last)",
      "\u001b[0;32m<ipython-input-170-5040d5b6421e>\u001b[0m in \u001b[0;36m<module>\u001b[0;34m()\u001b[0m\n\u001b[0;32m----> 1\u001b[0;31m \u001b[0mhelpers\u001b[0m\u001b[0;34m.\u001b[0m\u001b[0mquery_events\u001b[0m\u001b[0;34m.\u001b[0m\u001b[0mmerge_records\u001b[0m\u001b[0;34m(\u001b[0m\u001b[0;34m'primary_classifications'\u001b[0m\u001b[0;34m)\u001b[0m\u001b[0;34m\u001b[0m\u001b[0m\n\u001b[0m",
      "\u001b[0;31mTypeError\u001b[0m: merge_records() takes 0 positional arguments but 1 was given"
     ]
    }
   ],
   "source": [
    "helpers.query_events.merge_records('primary_classifications')"
   ]
  },
  {
   "cell_type": "code",
   "execution_count": null,
   "metadata": {
    "collapsed": true
   },
   "outputs": [],
   "source": []
  }
 ],
 "metadata": {
  "kernelspec": {
   "display_name": "Python 3",
   "language": "python",
   "name": "python3"
  },
  "language_info": {
   "codemirror_mode": {
    "name": "ipython",
    "version": 3
   },
   "file_extension": ".py",
   "mimetype": "text/x-python",
   "name": "python",
   "nbconvert_exporter": "python",
   "pygments_lexer": "ipython3",
   "version": "3.6.1"
  }
 },
 "nbformat": 4,
 "nbformat_minor": 2
}
